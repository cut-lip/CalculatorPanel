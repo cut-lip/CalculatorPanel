{
  "nbformat": 4,
  "nbformat_minor": 0,
  "metadata": {
    "colab": {
      "provenance": [],
      "authorship_tag": "ABX9TyOhnk53YWjzcUQ9hCKkX00H",
      "include_colab_link": true
    },
    "kernelspec": {
      "name": "python3",
      "display_name": "Python 3"
    },
    "language_info": {
      "name": "python"
    }
  },
  "cells": [
    {
      "cell_type": "markdown",
      "metadata": {
        "id": "view-in-github",
        "colab_type": "text"
      },
      "source": [
        "<a href=\"https://colab.research.google.com/github/cut-lip/CalculatorPanel/blob/master/ML_FirstNeuralNetwork.ipynb\" target=\"_parent\"><img src=\"https://colab.research.google.com/assets/colab-badge.svg\" alt=\"Open In Colab\"/></a>"
      ]
    },
    {
      "cell_type": "code",
      "execution_count": null,
      "metadata": {
        "colab": {
          "base_uri": "https://localhost:8080/"
        },
        "id": "YRXSrjyAt3_P",
        "outputId": "6bff897f-0e54-4876-cfab-369a278923cc"
      },
      "outputs": [
        {
          "output_type": "stream",
          "name": "stdout",
          "text": [
            "2.9.2\n"
          ]
        }
      ],
      "source": [
        "# Train a neural network to identify articles of clothing\n",
        "# Adapted from: https://www.tensorflow.org/tutorials/keras/classification\n",
        "\n",
        "# Import TensorFlow and tf.keras\n",
        "import tensorflow as tf\n",
        "\n",
        "# Import Helper libraries\n",
        "import numpy as np\n",
        "import matplotlib.pyplot as plt\n",
        "\n",
        "# Print current version of TensorFlow\n",
        "print(tf.__version__)\n",
        "\n",
        "# Import MNIST fashion dataset (through keras)\n"
      ]
    },
    {
      "cell_type": "code",
      "source": [],
      "metadata": {
        "id": "JLMLzE6jwfF9"
      },
      "execution_count": null,
      "outputs": []
    }
  ]
}